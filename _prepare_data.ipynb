{
 "cells": [
  {
   "cell_type": "code",
   "execution_count": 1,
   "metadata": {
    "collapsed": true
   },
   "outputs": [],
   "source": [
    "from __future__ import unicode_literals\n",
    "\n",
    "import os\n",
    "\n",
    "import numpy as np\n",
    "import pandas as pd\n",
    "from sklearn.preprocessing import LabelEncoder"
   ]
  },
  {
   "cell_type": "code",
   "execution_count": 2,
   "metadata": {
    "collapsed": true
   },
   "outputs": [],
   "source": [
    "def parse_page(x):\n",
    "    x = x.split('_')\n",
    "    return ' '.join(x[:-3]), x[-3], x[-2], x[-1]\n",
    "\n",
    "\n",
    "def nan_fill_forward(x):\n",
    "    for i in range(x.shape[0]):\n",
    "        fill_val = None\n",
    "        for j in range(x.shape[1] - 3, x.shape[1]):\n",
    "            if np.isnan(x[i, j]) and fill_val is not None:\n",
    "                x[i, j] = fill_val\n",
    "            else:\n",
    "                fill_val = x[i, j]\n",
    "    return x"
   ]
  },
  {
   "cell_type": "code",
   "execution_count": 3,
   "metadata": {
    "collapsed": true
   },
   "outputs": [],
   "source": [
    "df = pd.read_csv('data/raw/train_2.csv', encoding='utf-8')"
   ]
  },
  {
   "cell_type": "code",
   "execution_count": 5,
   "metadata": {
    "collapsed": false
   },
   "outputs": [
    {
     "data": {
      "text/plain": [
       "(145063, 794)"
      ]
     },
     "execution_count": 5,
     "metadata": {},
     "output_type": "execute_result"
    }
   ],
   "source": [
    "df.shape"
   ]
  },
  {
   "cell_type": "code",
   "execution_count": 6,
   "metadata": {
    "collapsed": false
   },
   "outputs": [
    {
     "data": {
      "text/html": [
       "<div>\n",
       "<style>\n",
       "    .dataframe thead tr:only-child th {\n",
       "        text-align: right;\n",
       "    }\n",
       "\n",
       "    .dataframe thead th {\n",
       "        text-align: left;\n",
       "    }\n",
       "\n",
       "    .dataframe tbody tr th {\n",
       "        vertical-align: top;\n",
       "    }\n",
       "</style>\n",
       "<table border=\"1\" class=\"dataframe\">\n",
       "  <thead>\n",
       "    <tr style=\"text-align: right;\">\n",
       "      <th></th>\n",
       "      <th>Page</th>\n",
       "      <th>2015-07-01</th>\n",
       "      <th>2015-07-02</th>\n",
       "      <th>2015-07-03</th>\n",
       "      <th>2015-07-04</th>\n",
       "      <th>2015-07-05</th>\n",
       "      <th>2015-07-06</th>\n",
       "      <th>2015-07-07</th>\n",
       "      <th>2015-07-08</th>\n",
       "      <th>2015-07-09</th>\n",
       "      <th>...</th>\n",
       "      <th>2017-08-22</th>\n",
       "      <th>2017-08-23</th>\n",
       "      <th>2017-08-24</th>\n",
       "      <th>2017-08-25</th>\n",
       "      <th>2017-08-26</th>\n",
       "      <th>2017-08-27</th>\n",
       "      <th>2017-08-28</th>\n",
       "      <th>2017-08-29</th>\n",
       "      <th>2017-08-30</th>\n",
       "      <th>2017-08-31</th>\n",
       "    </tr>\n",
       "  </thead>\n",
       "  <tbody>\n",
       "    <tr>\n",
       "      <th>0</th>\n",
       "      <td>2NE1_zh.wikipedia.org_all-access_spider</td>\n",
       "      <td>18.0</td>\n",
       "      <td>11.0</td>\n",
       "      <td>5.0</td>\n",
       "      <td>13.0</td>\n",
       "      <td>14.0</td>\n",
       "      <td>9.0</td>\n",
       "      <td>9.0</td>\n",
       "      <td>22.0</td>\n",
       "      <td>26.0</td>\n",
       "      <td>...</td>\n",
       "      <td>37.0</td>\n",
       "      <td>58.0</td>\n",
       "      <td>25.0</td>\n",
       "      <td>23.0</td>\n",
       "      <td>25.0</td>\n",
       "      <td>47.0</td>\n",
       "      <td>44.0</td>\n",
       "      <td>26.0</td>\n",
       "      <td>24.0</td>\n",
       "      <td>21.0</td>\n",
       "    </tr>\n",
       "    <tr>\n",
       "      <th>1</th>\n",
       "      <td>2PM_zh.wikipedia.org_all-access_spider</td>\n",
       "      <td>11.0</td>\n",
       "      <td>14.0</td>\n",
       "      <td>15.0</td>\n",
       "      <td>18.0</td>\n",
       "      <td>11.0</td>\n",
       "      <td>13.0</td>\n",
       "      <td>22.0</td>\n",
       "      <td>11.0</td>\n",
       "      <td>10.0</td>\n",
       "      <td>...</td>\n",
       "      <td>14.0</td>\n",
       "      <td>34.0</td>\n",
       "      <td>16.0</td>\n",
       "      <td>31.0</td>\n",
       "      <td>34.0</td>\n",
       "      <td>33.0</td>\n",
       "      <td>32.0</td>\n",
       "      <td>29.0</td>\n",
       "      <td>34.0</td>\n",
       "      <td>25.0</td>\n",
       "    </tr>\n",
       "    <tr>\n",
       "      <th>2</th>\n",
       "      <td>3C_zh.wikipedia.org_all-access_spider</td>\n",
       "      <td>1.0</td>\n",
       "      <td>0.0</td>\n",
       "      <td>1.0</td>\n",
       "      <td>1.0</td>\n",
       "      <td>0.0</td>\n",
       "      <td>4.0</td>\n",
       "      <td>0.0</td>\n",
       "      <td>3.0</td>\n",
       "      <td>4.0</td>\n",
       "      <td>...</td>\n",
       "      <td>6.0</td>\n",
       "      <td>23.0</td>\n",
       "      <td>11.0</td>\n",
       "      <td>8.0</td>\n",
       "      <td>6.0</td>\n",
       "      <td>13.0</td>\n",
       "      <td>12.0</td>\n",
       "      <td>8.0</td>\n",
       "      <td>12.0</td>\n",
       "      <td>9.0</td>\n",
       "    </tr>\n",
       "    <tr>\n",
       "      <th>3</th>\n",
       "      <td>4minute_zh.wikipedia.org_all-access_spider</td>\n",
       "      <td>35.0</td>\n",
       "      <td>13.0</td>\n",
       "      <td>10.0</td>\n",
       "      <td>94.0</td>\n",
       "      <td>4.0</td>\n",
       "      <td>26.0</td>\n",
       "      <td>14.0</td>\n",
       "      <td>9.0</td>\n",
       "      <td>11.0</td>\n",
       "      <td>...</td>\n",
       "      <td>21.0</td>\n",
       "      <td>42.0</td>\n",
       "      <td>23.0</td>\n",
       "      <td>17.0</td>\n",
       "      <td>11.0</td>\n",
       "      <td>21.0</td>\n",
       "      <td>20.0</td>\n",
       "      <td>20.0</td>\n",
       "      <td>110.0</td>\n",
       "      <td>15.0</td>\n",
       "    </tr>\n",
       "    <tr>\n",
       "      <th>4</th>\n",
       "      <td>52_Hz_I_Love_You_zh.wikipedia.org_all-access_s...</td>\n",
       "      <td>NaN</td>\n",
       "      <td>NaN</td>\n",
       "      <td>NaN</td>\n",
       "      <td>NaN</td>\n",
       "      <td>NaN</td>\n",
       "      <td>NaN</td>\n",
       "      <td>NaN</td>\n",
       "      <td>NaN</td>\n",
       "      <td>NaN</td>\n",
       "      <td>...</td>\n",
       "      <td>23.0</td>\n",
       "      <td>41.0</td>\n",
       "      <td>25.0</td>\n",
       "      <td>22.0</td>\n",
       "      <td>20.0</td>\n",
       "      <td>24.0</td>\n",
       "      <td>29.0</td>\n",
       "      <td>20.0</td>\n",
       "      <td>17.0</td>\n",
       "      <td>24.0</td>\n",
       "    </tr>\n",
       "  </tbody>\n",
       "</table>\n",
       "<p>5 rows × 794 columns</p>\n",
       "</div>"
      ],
      "text/plain": [
       "                                                Page  2015-07-01  2015-07-02  \\\n",
       "0            2NE1_zh.wikipedia.org_all-access_spider        18.0        11.0   \n",
       "1             2PM_zh.wikipedia.org_all-access_spider        11.0        14.0   \n",
       "2              3C_zh.wikipedia.org_all-access_spider         1.0         0.0   \n",
       "3         4minute_zh.wikipedia.org_all-access_spider        35.0        13.0   \n",
       "4  52_Hz_I_Love_You_zh.wikipedia.org_all-access_s...         NaN         NaN   \n",
       "\n",
       "   2015-07-03  2015-07-04  2015-07-05  2015-07-06  2015-07-07  2015-07-08  \\\n",
       "0         5.0        13.0        14.0         9.0         9.0        22.0   \n",
       "1        15.0        18.0        11.0        13.0        22.0        11.0   \n",
       "2         1.0         1.0         0.0         4.0         0.0         3.0   \n",
       "3        10.0        94.0         4.0        26.0        14.0         9.0   \n",
       "4         NaN         NaN         NaN         NaN         NaN         NaN   \n",
       "\n",
       "   2015-07-09     ...      2017-08-22  2017-08-23  2017-08-24  2017-08-25  \\\n",
       "0        26.0     ...            37.0        58.0        25.0        23.0   \n",
       "1        10.0     ...            14.0        34.0        16.0        31.0   \n",
       "2         4.0     ...             6.0        23.0        11.0         8.0   \n",
       "3        11.0     ...            21.0        42.0        23.0        17.0   \n",
       "4         NaN     ...            23.0        41.0        25.0        22.0   \n",
       "\n",
       "   2017-08-26  2017-08-27  2017-08-28  2017-08-29  2017-08-30  2017-08-31  \n",
       "0        25.0        47.0        44.0        26.0        24.0        21.0  \n",
       "1        34.0        33.0        32.0        29.0        34.0        25.0  \n",
       "2         6.0        13.0        12.0         8.0        12.0         9.0  \n",
       "3        11.0        21.0        20.0        20.0       110.0        15.0  \n",
       "4        20.0        24.0        29.0        20.0        17.0        24.0  \n",
       "\n",
       "[5 rows x 794 columns]"
      ]
     },
     "execution_count": 6,
     "metadata": {},
     "output_type": "execute_result"
    }
   ],
   "source": [
    "df.head()"
   ]
  },
  {
   "cell_type": "code",
   "execution_count": 7,
   "metadata": {
    "collapsed": true
   },
   "outputs": [],
   "source": [
    "date_cols = [i for i in df.columns if i != 'Page']"
   ]
  },
  {
   "cell_type": "code",
   "execution_count": 9,
   "metadata": {
    "collapsed": true
   },
   "outputs": [],
   "source": [
    "df['name'], df['project'], df['access'], df['agent'] = zip(*df['Page'].apply(parse_page))"
   ]
  },
  {
   "cell_type": "code",
   "execution_count": 10,
   "metadata": {
    "collapsed": false
   },
   "outputs": [
    {
     "data": {
      "text/html": [
       "<div>\n",
       "<style>\n",
       "    .dataframe thead tr:only-child th {\n",
       "        text-align: right;\n",
       "    }\n",
       "\n",
       "    .dataframe thead th {\n",
       "        text-align: left;\n",
       "    }\n",
       "\n",
       "    .dataframe tbody tr th {\n",
       "        vertical-align: top;\n",
       "    }\n",
       "</style>\n",
       "<table border=\"1\" class=\"dataframe\">\n",
       "  <thead>\n",
       "    <tr style=\"text-align: right;\">\n",
       "      <th></th>\n",
       "      <th>Page</th>\n",
       "      <th>2015-07-01</th>\n",
       "      <th>2015-07-02</th>\n",
       "      <th>2015-07-03</th>\n",
       "      <th>2015-07-04</th>\n",
       "      <th>2015-07-05</th>\n",
       "      <th>2015-07-06</th>\n",
       "      <th>2015-07-07</th>\n",
       "      <th>2015-07-08</th>\n",
       "      <th>2015-07-09</th>\n",
       "      <th>...</th>\n",
       "      <th>2017-08-26</th>\n",
       "      <th>2017-08-27</th>\n",
       "      <th>2017-08-28</th>\n",
       "      <th>2017-08-29</th>\n",
       "      <th>2017-08-30</th>\n",
       "      <th>2017-08-31</th>\n",
       "      <th>name</th>\n",
       "      <th>project</th>\n",
       "      <th>access</th>\n",
       "      <th>agent</th>\n",
       "    </tr>\n",
       "  </thead>\n",
       "  <tbody>\n",
       "    <tr>\n",
       "      <th>0</th>\n",
       "      <td>2NE1_zh.wikipedia.org_all-access_spider</td>\n",
       "      <td>18.0</td>\n",
       "      <td>11.0</td>\n",
       "      <td>5.0</td>\n",
       "      <td>13.0</td>\n",
       "      <td>14.0</td>\n",
       "      <td>9.0</td>\n",
       "      <td>9.0</td>\n",
       "      <td>22.0</td>\n",
       "      <td>26.0</td>\n",
       "      <td>...</td>\n",
       "      <td>25.0</td>\n",
       "      <td>47.0</td>\n",
       "      <td>44.0</td>\n",
       "      <td>26.0</td>\n",
       "      <td>24.0</td>\n",
       "      <td>21.0</td>\n",
       "      <td>2NE1</td>\n",
       "      <td>zh.wikipedia.org</td>\n",
       "      <td>all-access</td>\n",
       "      <td>spider</td>\n",
       "    </tr>\n",
       "    <tr>\n",
       "      <th>1</th>\n",
       "      <td>2PM_zh.wikipedia.org_all-access_spider</td>\n",
       "      <td>11.0</td>\n",
       "      <td>14.0</td>\n",
       "      <td>15.0</td>\n",
       "      <td>18.0</td>\n",
       "      <td>11.0</td>\n",
       "      <td>13.0</td>\n",
       "      <td>22.0</td>\n",
       "      <td>11.0</td>\n",
       "      <td>10.0</td>\n",
       "      <td>...</td>\n",
       "      <td>34.0</td>\n",
       "      <td>33.0</td>\n",
       "      <td>32.0</td>\n",
       "      <td>29.0</td>\n",
       "      <td>34.0</td>\n",
       "      <td>25.0</td>\n",
       "      <td>2PM</td>\n",
       "      <td>zh.wikipedia.org</td>\n",
       "      <td>all-access</td>\n",
       "      <td>spider</td>\n",
       "    </tr>\n",
       "    <tr>\n",
       "      <th>2</th>\n",
       "      <td>3C_zh.wikipedia.org_all-access_spider</td>\n",
       "      <td>1.0</td>\n",
       "      <td>0.0</td>\n",
       "      <td>1.0</td>\n",
       "      <td>1.0</td>\n",
       "      <td>0.0</td>\n",
       "      <td>4.0</td>\n",
       "      <td>0.0</td>\n",
       "      <td>3.0</td>\n",
       "      <td>4.0</td>\n",
       "      <td>...</td>\n",
       "      <td>6.0</td>\n",
       "      <td>13.0</td>\n",
       "      <td>12.0</td>\n",
       "      <td>8.0</td>\n",
       "      <td>12.0</td>\n",
       "      <td>9.0</td>\n",
       "      <td>3C</td>\n",
       "      <td>zh.wikipedia.org</td>\n",
       "      <td>all-access</td>\n",
       "      <td>spider</td>\n",
       "    </tr>\n",
       "    <tr>\n",
       "      <th>3</th>\n",
       "      <td>4minute_zh.wikipedia.org_all-access_spider</td>\n",
       "      <td>35.0</td>\n",
       "      <td>13.0</td>\n",
       "      <td>10.0</td>\n",
       "      <td>94.0</td>\n",
       "      <td>4.0</td>\n",
       "      <td>26.0</td>\n",
       "      <td>14.0</td>\n",
       "      <td>9.0</td>\n",
       "      <td>11.0</td>\n",
       "      <td>...</td>\n",
       "      <td>11.0</td>\n",
       "      <td>21.0</td>\n",
       "      <td>20.0</td>\n",
       "      <td>20.0</td>\n",
       "      <td>110.0</td>\n",
       "      <td>15.0</td>\n",
       "      <td>4minute</td>\n",
       "      <td>zh.wikipedia.org</td>\n",
       "      <td>all-access</td>\n",
       "      <td>spider</td>\n",
       "    </tr>\n",
       "    <tr>\n",
       "      <th>4</th>\n",
       "      <td>52_Hz_I_Love_You_zh.wikipedia.org_all-access_s...</td>\n",
       "      <td>NaN</td>\n",
       "      <td>NaN</td>\n",
       "      <td>NaN</td>\n",
       "      <td>NaN</td>\n",
       "      <td>NaN</td>\n",
       "      <td>NaN</td>\n",
       "      <td>NaN</td>\n",
       "      <td>NaN</td>\n",
       "      <td>NaN</td>\n",
       "      <td>...</td>\n",
       "      <td>20.0</td>\n",
       "      <td>24.0</td>\n",
       "      <td>29.0</td>\n",
       "      <td>20.0</td>\n",
       "      <td>17.0</td>\n",
       "      <td>24.0</td>\n",
       "      <td>52 Hz I Love You</td>\n",
       "      <td>zh.wikipedia.org</td>\n",
       "      <td>all-access</td>\n",
       "      <td>spider</td>\n",
       "    </tr>\n",
       "  </tbody>\n",
       "</table>\n",
       "<p>5 rows × 798 columns</p>\n",
       "</div>"
      ],
      "text/plain": [
       "                                                Page  2015-07-01  2015-07-02  \\\n",
       "0            2NE1_zh.wikipedia.org_all-access_spider        18.0        11.0   \n",
       "1             2PM_zh.wikipedia.org_all-access_spider        11.0        14.0   \n",
       "2              3C_zh.wikipedia.org_all-access_spider         1.0         0.0   \n",
       "3         4minute_zh.wikipedia.org_all-access_spider        35.0        13.0   \n",
       "4  52_Hz_I_Love_You_zh.wikipedia.org_all-access_s...         NaN         NaN   \n",
       "\n",
       "   2015-07-03  2015-07-04  2015-07-05  2015-07-06  2015-07-07  2015-07-08  \\\n",
       "0         5.0        13.0        14.0         9.0         9.0        22.0   \n",
       "1        15.0        18.0        11.0        13.0        22.0        11.0   \n",
       "2         1.0         1.0         0.0         4.0         0.0         3.0   \n",
       "3        10.0        94.0         4.0        26.0        14.0         9.0   \n",
       "4         NaN         NaN         NaN         NaN         NaN         NaN   \n",
       "\n",
       "   2015-07-09   ...    2017-08-26  2017-08-27  2017-08-28  2017-08-29  \\\n",
       "0        26.0   ...          25.0        47.0        44.0        26.0   \n",
       "1        10.0   ...          34.0        33.0        32.0        29.0   \n",
       "2         4.0   ...           6.0        13.0        12.0         8.0   \n",
       "3        11.0   ...          11.0        21.0        20.0        20.0   \n",
       "4         NaN   ...          20.0        24.0        29.0        20.0   \n",
       "\n",
       "   2017-08-30  2017-08-31              name           project      access  \\\n",
       "0        24.0        21.0              2NE1  zh.wikipedia.org  all-access   \n",
       "1        34.0        25.0               2PM  zh.wikipedia.org  all-access   \n",
       "2        12.0         9.0                3C  zh.wikipedia.org  all-access   \n",
       "3       110.0        15.0           4minute  zh.wikipedia.org  all-access   \n",
       "4        17.0        24.0  52 Hz I Love You  zh.wikipedia.org  all-access   \n",
       "\n",
       "    agent  \n",
       "0  spider  \n",
       "1  spider  \n",
       "2  spider  \n",
       "3  spider  \n",
       "4  spider  \n",
       "\n",
       "[5 rows x 798 columns]"
      ]
     },
     "execution_count": 10,
     "metadata": {},
     "output_type": "execute_result"
    }
   ],
   "source": [
    "df.head()"
   ]
  },
  {
   "cell_type": "code",
   "execution_count": 13,
   "metadata": {
    "collapsed": false
   },
   "outputs": [
    {
     "data": {
      "text/plain": [
       "(9, 3, 2, 145063)"
      ]
     },
     "execution_count": 13,
     "metadata": {},
     "output_type": "execute_result"
    }
   ],
   "source": [
    "df.project.nunique(), df.access.nunique(), df.agent.nunique(), df.Page.nunique()"
   ]
  },
  {
   "cell_type": "code",
   "execution_count": 15,
   "metadata": {
    "collapsed": true
   },
   "outputs": [],
   "source": [
    "le = LabelEncoder()\n",
    "df['project'] = le.fit_transform(df['project'])\n",
    "df['access'] = le.fit_transform(df['access'])\n",
    "df['agent'] = le.fit_transform(df['agent'])\n",
    "df['page_id'] = le.fit_transform(df['Page'])"
   ]
  },
  {
   "cell_type": "code",
   "execution_count": 16,
   "metadata": {
    "collapsed": false
   },
   "outputs": [
    {
     "data": {
      "text/html": [
       "<div>\n",
       "<style>\n",
       "    .dataframe thead tr:only-child th {\n",
       "        text-align: right;\n",
       "    }\n",
       "\n",
       "    .dataframe thead th {\n",
       "        text-align: left;\n",
       "    }\n",
       "\n",
       "    .dataframe tbody tr th {\n",
       "        vertical-align: top;\n",
       "    }\n",
       "</style>\n",
       "<table border=\"1\" class=\"dataframe\">\n",
       "  <thead>\n",
       "    <tr style=\"text-align: right;\">\n",
       "      <th></th>\n",
       "      <th>Page</th>\n",
       "      <th>2015-07-01</th>\n",
       "      <th>2015-07-02</th>\n",
       "      <th>2015-07-03</th>\n",
       "      <th>2015-07-04</th>\n",
       "      <th>2015-07-05</th>\n",
       "      <th>2015-07-06</th>\n",
       "      <th>2015-07-07</th>\n",
       "      <th>2015-07-08</th>\n",
       "      <th>2015-07-09</th>\n",
       "      <th>...</th>\n",
       "      <th>2017-08-27</th>\n",
       "      <th>2017-08-28</th>\n",
       "      <th>2017-08-29</th>\n",
       "      <th>2017-08-30</th>\n",
       "      <th>2017-08-31</th>\n",
       "      <th>name</th>\n",
       "      <th>project</th>\n",
       "      <th>access</th>\n",
       "      <th>agent</th>\n",
       "      <th>page_id</th>\n",
       "    </tr>\n",
       "  </thead>\n",
       "  <tbody>\n",
       "    <tr>\n",
       "      <th>0</th>\n",
       "      <td>2NE1_zh.wikipedia.org_all-access_spider</td>\n",
       "      <td>18.0</td>\n",
       "      <td>11.0</td>\n",
       "      <td>5.0</td>\n",
       "      <td>13.0</td>\n",
       "      <td>14.0</td>\n",
       "      <td>9.0</td>\n",
       "      <td>9.0</td>\n",
       "      <td>22.0</td>\n",
       "      <td>26.0</td>\n",
       "      <td>...</td>\n",
       "      <td>47.0</td>\n",
       "      <td>44.0</td>\n",
       "      <td>26.0</td>\n",
       "      <td>24.0</td>\n",
       "      <td>21.0</td>\n",
       "      <td>2NE1</td>\n",
       "      <td>8</td>\n",
       "      <td>0</td>\n",
       "      <td>1</td>\n",
       "      <td>1797</td>\n",
       "    </tr>\n",
       "    <tr>\n",
       "      <th>1</th>\n",
       "      <td>2PM_zh.wikipedia.org_all-access_spider</td>\n",
       "      <td>11.0</td>\n",
       "      <td>14.0</td>\n",
       "      <td>15.0</td>\n",
       "      <td>18.0</td>\n",
       "      <td>11.0</td>\n",
       "      <td>13.0</td>\n",
       "      <td>22.0</td>\n",
       "      <td>11.0</td>\n",
       "      <td>10.0</td>\n",
       "      <td>...</td>\n",
       "      <td>33.0</td>\n",
       "      <td>32.0</td>\n",
       "      <td>29.0</td>\n",
       "      <td>34.0</td>\n",
       "      <td>25.0</td>\n",
       "      <td>2PM</td>\n",
       "      <td>8</td>\n",
       "      <td>0</td>\n",
       "      <td>1</td>\n",
       "      <td>1801</td>\n",
       "    </tr>\n",
       "    <tr>\n",
       "      <th>2</th>\n",
       "      <td>3C_zh.wikipedia.org_all-access_spider</td>\n",
       "      <td>1.0</td>\n",
       "      <td>0.0</td>\n",
       "      <td>1.0</td>\n",
       "      <td>1.0</td>\n",
       "      <td>0.0</td>\n",
       "      <td>4.0</td>\n",
       "      <td>0.0</td>\n",
       "      <td>3.0</td>\n",
       "      <td>4.0</td>\n",
       "      <td>...</td>\n",
       "      <td>13.0</td>\n",
       "      <td>12.0</td>\n",
       "      <td>8.0</td>\n",
       "      <td>12.0</td>\n",
       "      <td>9.0</td>\n",
       "      <td>3C</td>\n",
       "      <td>8</td>\n",
       "      <td>0</td>\n",
       "      <td>1</td>\n",
       "      <td>1904</td>\n",
       "    </tr>\n",
       "    <tr>\n",
       "      <th>3</th>\n",
       "      <td>4minute_zh.wikipedia.org_all-access_spider</td>\n",
       "      <td>35.0</td>\n",
       "      <td>13.0</td>\n",
       "      <td>10.0</td>\n",
       "      <td>94.0</td>\n",
       "      <td>4.0</td>\n",
       "      <td>26.0</td>\n",
       "      <td>14.0</td>\n",
       "      <td>9.0</td>\n",
       "      <td>11.0</td>\n",
       "      <td>...</td>\n",
       "      <td>21.0</td>\n",
       "      <td>20.0</td>\n",
       "      <td>20.0</td>\n",
       "      <td>110.0</td>\n",
       "      <td>15.0</td>\n",
       "      <td>4minute</td>\n",
       "      <td>8</td>\n",
       "      <td>0</td>\n",
       "      <td>1</td>\n",
       "      <td>2012</td>\n",
       "    </tr>\n",
       "    <tr>\n",
       "      <th>4</th>\n",
       "      <td>52_Hz_I_Love_You_zh.wikipedia.org_all-access_s...</td>\n",
       "      <td>NaN</td>\n",
       "      <td>NaN</td>\n",
       "      <td>NaN</td>\n",
       "      <td>NaN</td>\n",
       "      <td>NaN</td>\n",
       "      <td>NaN</td>\n",
       "      <td>NaN</td>\n",
       "      <td>NaN</td>\n",
       "      <td>NaN</td>\n",
       "      <td>...</td>\n",
       "      <td>24.0</td>\n",
       "      <td>29.0</td>\n",
       "      <td>20.0</td>\n",
       "      <td>17.0</td>\n",
       "      <td>24.0</td>\n",
       "      <td>52 Hz I Love You</td>\n",
       "      <td>8</td>\n",
       "      <td>0</td>\n",
       "      <td>1</td>\n",
       "      <td>2039</td>\n",
       "    </tr>\n",
       "  </tbody>\n",
       "</table>\n",
       "<p>5 rows × 799 columns</p>\n",
       "</div>"
      ],
      "text/plain": [
       "                                                Page  2015-07-01  2015-07-02  \\\n",
       "0            2NE1_zh.wikipedia.org_all-access_spider        18.0        11.0   \n",
       "1             2PM_zh.wikipedia.org_all-access_spider        11.0        14.0   \n",
       "2              3C_zh.wikipedia.org_all-access_spider         1.0         0.0   \n",
       "3         4minute_zh.wikipedia.org_all-access_spider        35.0        13.0   \n",
       "4  52_Hz_I_Love_You_zh.wikipedia.org_all-access_s...         NaN         NaN   \n",
       "\n",
       "   2015-07-03  2015-07-04  2015-07-05  2015-07-06  2015-07-07  2015-07-08  \\\n",
       "0         5.0        13.0        14.0         9.0         9.0        22.0   \n",
       "1        15.0        18.0        11.0        13.0        22.0        11.0   \n",
       "2         1.0         1.0         0.0         4.0         0.0         3.0   \n",
       "3        10.0        94.0         4.0        26.0        14.0         9.0   \n",
       "4         NaN         NaN         NaN         NaN         NaN         NaN   \n",
       "\n",
       "   2015-07-09   ...     2017-08-27  2017-08-28  2017-08-29  2017-08-30  \\\n",
       "0        26.0   ...           47.0        44.0        26.0        24.0   \n",
       "1        10.0   ...           33.0        32.0        29.0        34.0   \n",
       "2         4.0   ...           13.0        12.0         8.0        12.0   \n",
       "3        11.0   ...           21.0        20.0        20.0       110.0   \n",
       "4         NaN   ...           24.0        29.0        20.0        17.0   \n",
       "\n",
       "   2017-08-31              name  project  access  agent  page_id  \n",
       "0        21.0              2NE1        8       0      1     1797  \n",
       "1        25.0               2PM        8       0      1     1801  \n",
       "2         9.0                3C        8       0      1     1904  \n",
       "3        15.0           4minute        8       0      1     2012  \n",
       "4        24.0  52 Hz I Love You        8       0      1     2039  \n",
       "\n",
       "[5 rows x 799 columns]"
      ]
     },
     "execution_count": 16,
     "metadata": {},
     "output_type": "execute_result"
    }
   ],
   "source": [
    "df.head()"
   ]
  },
  {
   "cell_type": "code",
   "execution_count": 14,
   "metadata": {
    "collapsed": true
   },
   "outputs": [],
   "source": [
    "if not os.path.isdir('data/processed'):\n",
    "    os.makedirs('data/processed')"
   ]
  },
  {
   "cell_type": "code",
   "execution_count": 17,
   "metadata": {
    "collapsed": true
   },
   "outputs": [],
   "source": [
    "df[['page_id', 'Page']].to_csv('data/processed/page_ids.csv', encoding='utf-8', index=False)"
   ]
  },
  {
   "cell_type": "code",
   "execution_count": 18,
   "metadata": {
    "collapsed": true
   },
   "outputs": [],
   "source": [
    "data = df[date_cols].values"
   ]
  },
  {
   "cell_type": "code",
   "execution_count": 21,
   "metadata": {
    "collapsed": true
   },
   "outputs": [],
   "source": [
    "np.save('data/processed/data.npy', np.nan_to_num(data))\n",
    "np.save('data/processed/is_nan.npy', np.isnan(data).astype(int))"
   ]
  },
  {
   "cell_type": "code",
   "execution_count": 22,
   "metadata": {
    "collapsed": true
   },
   "outputs": [],
   "source": [
    "np.save('data/processed/project.npy', df['project'].values)\n",
    "np.save('data/processed/access.npy', df['access'].values)\n",
    "np.save('data/processed/agent.npy', df['agent'].values)\n",
    "np.save('data/processed/page_id.npy', df['page_id'].values)"
   ]
  },
  {
   "cell_type": "code",
   "execution_count": 23,
   "metadata": {
    "collapsed": true
   },
   "outputs": [],
   "source": [
    "test_data = nan_fill_forward(df[date_cols].values)"
   ]
  },
  {
   "cell_type": "code",
   "execution_count": 24,
   "metadata": {
    "collapsed": true
   },
   "outputs": [],
   "source": [
    "np.save('data/processed/test_data.npy', np.nan_to_num(test_data))\n",
    "np.save('data/processed/test_is_nan.npy', np.isnan(test_data).astype(int))"
   ]
  },
  {
   "cell_type": "markdown",
   "metadata": {},
   "source": [
    "終わり。以下分析。"
   ]
  },
  {
   "cell_type": "markdown",
   "metadata": {},
   "source": [
    "nan_fill_forward"
   ]
  },
  {
   "cell_type": "code",
   "execution_count": 28,
   "metadata": {
    "collapsed": true
   },
   "outputs": [],
   "source": [
    "x = df[date_cols].values"
   ]
  },
  {
   "cell_type": "code",
   "execution_count": 25,
   "metadata": {
    "collapsed": true
   },
   "outputs": [],
   "source": [
    "for i in range(x.shape[0]):\n",
    "    break"
   ]
  },
  {
   "cell_type": "code",
   "execution_count": 26,
   "metadata": {
    "collapsed": false
   },
   "outputs": [
    {
     "data": {
      "text/plain": [
       "0"
      ]
     },
     "execution_count": 26,
     "metadata": {},
     "output_type": "execute_result"
    }
   ],
   "source": [
    "i"
   ]
  },
  {
   "cell_type": "code",
   "execution_count": 27,
   "metadata": {
    "collapsed": true
   },
   "outputs": [],
   "source": [
    "fill_val = None"
   ]
  },
  {
   "cell_type": "code",
   "execution_count": 29,
   "metadata": {
    "collapsed": true
   },
   "outputs": [],
   "source": [
    "for j in range(x.shape[1] - 3, x.shape[1]):\n",
    "    break"
   ]
  },
  {
   "cell_type": "code",
   "execution_count": 30,
   "metadata": {
    "collapsed": false
   },
   "outputs": [
    {
     "data": {
      "text/plain": [
       "790"
      ]
     },
     "execution_count": 30,
     "metadata": {},
     "output_type": "execute_result"
    }
   ],
   "source": [
    "j"
   ]
  },
  {
   "cell_type": "code",
   "execution_count": 33,
   "metadata": {
    "collapsed": true
   },
   "outputs": [],
   "source": [
    "if np.isnan(x[i, j]) and fill_val is not None:\n",
    "    x[i, j] = fill_val\n",
    "else:\n",
    "    fill_val = x[i, j]"
   ]
  },
  {
   "cell_type": "code",
   "execution_count": 34,
   "metadata": {
    "collapsed": false
   },
   "outputs": [
    {
     "data": {
      "text/plain": [
       "26.0"
      ]
     },
     "execution_count": 34,
     "metadata": {},
     "output_type": "execute_result"
    }
   ],
   "source": [
    "fill_val"
   ]
  },
  {
   "cell_type": "code",
   "execution_count": 35,
   "metadata": {
    "collapsed": false
   },
   "outputs": [
    {
     "data": {
      "text/plain": [
       "26.0"
      ]
     },
     "execution_count": 35,
     "metadata": {},
     "output_type": "execute_result"
    }
   ],
   "source": [
    "x[i, j]"
   ]
  },
  {
   "cell_type": "code",
   "execution_count": 38,
   "metadata": {
    "collapsed": false
   },
   "outputs": [
    {
     "data": {
      "text/plain": [
       "(793,)"
      ]
     },
     "execution_count": 38,
     "metadata": {},
     "output_type": "execute_result"
    }
   ],
   "source": [
    "x[0].shape"
   ]
  },
  {
   "cell_type": "code",
   "execution_count": 39,
   "metadata": {
    "collapsed": false
   },
   "outputs": [
    {
     "data": {
      "text/plain": [
       "(145063, 793)"
      ]
     },
     "execution_count": 39,
     "metadata": {},
     "output_type": "execute_result"
    }
   ],
   "source": [
    "test_data.shape"
   ]
  },
  {
   "cell_type": "code",
   "execution_count": 41,
   "metadata": {
    "collapsed": false
   },
   "outputs": [
    {
     "data": {
      "text/plain": [
       "array([  18.,   11.,    5.,   13.,   14.,    9.,    9.,   22.,   26.,\n",
       "         24.,   19.,   10.,   14.,   15.,    8.,   16.,    8.,    8.,\n",
       "         16.,    7.,   11.,   10.,   20.,   18.,   15.,   14.,   49.,\n",
       "         10.,   16.,   18.,    8.,    5.,    9.,    7.,   13.,    9.,\n",
       "          7.,    4.,   11.,   10.,    5.,    9.,    9.,    9.,    9.,\n",
       "         13.,    4.,   15.,   25.,    9.,    5.,    6.,   20.,    3.,\n",
       "         14.,   46.,    5.,    5.,   13.,    4.,    9.,   10.,    9.,\n",
       "         11.,   11.,   11.,    9.,   15.,    5.,   10.,    7.,    4.,\n",
       "          8.,    9.,   10.,    6.,   13.,   16.,    6.,   24.,    9.,\n",
       "         11.,   12.,    8.,   14.,    6.,    6.,   11.,   14.,    6.,\n",
       "         10.,   20.,    7.,   15.,    8.,   15.,    5.,    8.,    8.,\n",
       "          5.,   11.,  165.,   34.,    6.,   13.,    8.,    9.,   11.,\n",
       "         26.,   18.,    3.,    5.,   12.,    6.,   16.,   19.,    9.,\n",
       "         10.,   11.,   11.,    7.,    9.,   10.,   24.,    6.,    6.,\n",
       "          8.,   16.,   13.,   10.,   10.,    6.,    5.,   20.,    6.,\n",
       "         47.,    9.,    9.,   12.,   11.,   17.,   15.,   14.,   11.,\n",
       "         97.,   11.,   12.,   11.,   14.,   15.,   12.,  104.,    5.,\n",
       "         22.,   45.,   75.,   29.,   34.,   20.,   12.,   25.,    9.,\n",
       "         62.,   20.,   19.,    8.,   23.,   13.,   16.,   34.,   36.,\n",
       "         11.,   18.,   12.,   24.,   30.,   27.,   44.,   35.,   53.,\n",
       "         11.,   26.,   13.,   18.,    9.,   16.,    6.,   19.,   20.,\n",
       "         19.,   22.,   30.,   14.,   16.,   22.,   15.,   15.,   26.,\n",
       "         16.,   13.,   27.,   18.,   13.,   32.,   31.,   16.,   38.,\n",
       "         18.,    9.,   14.,   10.,   24.,    8.,   15.,   18.,   10.,\n",
       "         23.,   17.,   11.,   26.,   14.,    8.,   12.,    9.,   11.,\n",
       "         34.,   17.,   29.,   11.,    9.,   14.,   21.,   12.,   11.,\n",
       "         13.,   11.,   13.,   16.,   13.,   19.,   21.,   14.,   11.,\n",
       "         35.,   18.,   42.,   15.,    5.,   21.,   56.,    9.,   20.,\n",
       "         17.,   18.,    8.,    9.,   17.,    9.,   10.,   14.,   17.,\n",
       "          6.,   18.,   13.,   11.,   12.,   11.,    8.,   15.,   11.,\n",
       "         20.,   59.,   11.,   18.,   17.,   12.,   14.,   13.,    9.,\n",
       "        490.,  189.,  102.,   38.,  126.,   71.,   21.,   57.,   79.,\n",
       "         17.,   17.,   23.,   16.,   23.,   18.,   22.,   44.,    6.,\n",
       "         31.,   17.,   25.,   40.,   19.,   15.,   15.,   29.,   18.,\n",
       "         16.,   13.,   20.,   22.,   19.,   11.,   50.,   22.,   39.,\n",
       "         23.,   21.,   23.,   22.,   16.,   19.,   35.,   16.,   12.,\n",
       "         15.,   13.,   14.,   10.,   21.,   20.,   19.,   14.,   12.,\n",
       "         15.,   17.,   16.,   21.,   27.,   13.,   11.,   15.,   14.,\n",
       "         18.,   18.,   10.,   11.,   14.,   18.,   14.,   13.,   17.,\n",
       "         15.,   14.,  234.,    8.,   62.,   26.,   22.,    8.,   22.,\n",
       "         15.,   69.,   11.,   18.,   23.,   12.,   20.,   17.,   15.,\n",
       "         16.,   18.,   21.,   15.,   30.,  115.,   56.,   45.,   17.,\n",
       "         18.,   15.,   18.,   14.,   15.,   15.,   24.,   22.,   18.,\n",
       "         30.,   12.,   13.,   18.,   17.,   31.,   26.,   29.,   12.,\n",
       "         19.,   19.,   57.,   17.,   20.,   49.,   10.,   19.,   26.,\n",
       "         41.,   23.,   30.,   55.,   17.,   24.,   14.,   12.,   49.,\n",
       "         42.,   37.,   13.,   30.,   20.,   33.,   20.,   14.,   40.,\n",
       "         15.,   18.,   26.,    8.,   25.,   21.,   20.,   25.,   19.,\n",
       "         23.,   18.,   19.,   18.,   55.,   16.,   65.,   11.,   11.,\n",
       "         13.,   20.,   21.,   13.,   24.,   20.,   13.,   32.,   16.,\n",
       "         10.,   13.,   44.,   17.,   13.,   72.,   40.,   19.,   14.,\n",
       "         13.,   12.,   14.,   10.,   26.,   13.,   22.,   14.,   23.,\n",
       "         12.,    8.,   50.,   13.,   10.,   16.,   14.,   10.,   24.,\n",
       "         10.,   20.,   10.,   26.,   25.,   16.,   19.,   20.,   12.,\n",
       "         19.,   50.,   16.,   30.,   18.,   25.,   14.,   20.,    8.,\n",
       "         67.,   13.,   41.,   10.,   21.,   13.,    8.,   15.,   14.,\n",
       "         12.,    6.,   11.,   10.,   42.,   21.,   24.,   14.,   11.,\n",
       "        204.,   14.,   45.,   33.,   28.,   18.,   14.,   47.,   15.,\n",
       "         14.,   18.,   20.,   14.,   16.,   14.,   20.,   60.,   22.,\n",
       "         15.,   17.,   19.,   18.,   21.,   21.,   47.,   65.,   17.,\n",
       "         32.,   63.,   15.,   26.,   14.,   20.,   22.,   19.,   18.,\n",
       "         20.,   26.,   42.,   35.,   13.,   51.,   11.,   12.,   31.,\n",
       "         15.,    4.,   22.,   12.,   12.,   11.,    4.,   12.,   13.,\n",
       "         13.,   56.,   47.,  120.,   52.,  106.,   35.,   77.,   16.,\n",
       "         11.,   28.,    5.,   20.,   24.,   57.,   43.,   22.,    7.,\n",
       "         11.,   13.,   42.,   11.,    7.,   22.,   13.,   20.,   11.,\n",
       "         18.,   16.,   18.,    9.,   15.,   16.,   14.,   11.,   66.,\n",
       "         18.,   23.,   20.,   20.,   39.,   16.,   43.,   14.,   26.,\n",
       "         15.,   16.,   22.,   22.,   28.,   21.,   22.,   19.,   28.,\n",
       "         22.,   24.,   19.,   21.,   28.,   30.,   26.,   28.,   22.,\n",
       "         23.,   44.,   11.,   22.,   33.,   66.,   19.,   73.,   17.,\n",
       "         17.,   16.,   32.,   38.,   19.,   27.,   20.,  124.,   18.,\n",
       "         17.,   17.,   32.,   17.,   21.,   57.,   22.,   13.,   43.,\n",
       "         16.,   18.,   13.,   20.,   50.,   33.,   31.,   19.,   20.,\n",
       "         71.,   24.,   20.,   36.,   80.,   25.,   29.,   13.,   42.,\n",
       "         55.,   21.,   15.,   21.,   16.,   22.,   22.,   23.,   21.,\n",
       "         19.,   23.,   14.,   21.,   24.,   33.,   12.,   22.,   16.,\n",
       "         66.,   15.,   40.,   22.,   18.,   29.,   19.,   16.,   37.,\n",
       "         57.,   30.,   35.,   25.,   30.,   28.,   18.,   23.,   37.,\n",
       "         23.,   27.,   24.,   26.,   35.,   32.,   29.,   38.,   46.,\n",
       "         22.,   28.,   26.,   29.,   21.,   23.,   23.,   32.,   34.,\n",
       "         21.,   24.,   23.,   24.,   26.,   15.,   14.,   15.,   19.,\n",
       "         29.,   22.,   25.,   20.,   19.,   25.,   17.,   12.,   24.,\n",
       "         38.,   43.,   17.,   16.,   16.,   12.,   20.,   16.,   31.,\n",
       "         19.,   14.,   20.,   13.,   22.,   14.,   20.,   46.,   24.,\n",
       "         22.,   22.,   11.,   25.,   45.,   39.,   17.,   18.,   13.,\n",
       "         57.,   18.,   14.,   19.,   39.,   22.,   16.,   28.,   21.,\n",
       "         37.,   58.,   25.,   23.,   25.,   47.,   44.,   26.,   24.,   21.])"
      ]
     },
     "execution_count": 41,
     "metadata": {},
     "output_type": "execute_result"
    }
   ],
   "source": [
    "test_data[0]"
   ]
  },
  {
   "cell_type": "code",
   "execution_count": null,
   "metadata": {
    "collapsed": true
   },
   "outputs": [],
   "source": []
  }
 ],
 "metadata": {
  "kernelspec": {
   "display_name": "Python 3",
   "language": "python",
   "name": "python3"
  },
  "language_info": {
   "codemirror_mode": {
    "name": "ipython",
    "version": 3
   },
   "file_extension": ".py",
   "mimetype": "text/x-python",
   "name": "python",
   "nbconvert_exporter": "python",
   "pygments_lexer": "ipython3",
   "version": "3.5.2"
  },
  "toc": {
   "colors": {
    "hover_highlight": "#DAA520",
    "navigate_num": "#000000",
    "navigate_text": "#333333",
    "running_highlight": "#FF0000",
    "selected_highlight": "#FFD700",
    "sidebar_border": "#EEEEEE",
    "wrapper_background": "#FFFFFF"
   },
   "moveMenuLeft": true,
   "nav_menu": {
    "height": "4px",
    "width": "254px"
   },
   "navigate_menu": true,
   "number_sections": true,
   "sideBar": true,
   "threshold": 4,
   "toc_cell": false,
   "toc_section_display": "block",
   "toc_window_display": false,
   "widenNotebook": false
  },
  "varInspector": {
   "cols": {
    "lenName": 16,
    "lenType": 16,
    "lenVar": 40
   },
   "kernels_config": {
    "python": {
     "delete_cmd_postfix": "",
     "delete_cmd_prefix": "del ",
     "library": "var_list.py",
     "varRefreshCmd": "print(var_dic_list())"
    },
    "r": {
     "delete_cmd_postfix": ") ",
     "delete_cmd_prefix": "rm(",
     "library": "var_list.r",
     "varRefreshCmd": "cat(var_dic_list()) "
    }
   },
   "types_to_exclude": [
    "module",
    "function",
    "builtin_function_or_method",
    "instance",
    "_Feature"
   ],
   "window_display": false
  }
 },
 "nbformat": 4,
 "nbformat_minor": 2
}
